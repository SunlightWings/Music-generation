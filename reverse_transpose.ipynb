{
 "cells": [
  {
   "cell_type": "code",
   "execution_count": 1,
   "metadata": {},
   "outputs": [],
   "source": [
    "from music21 import *"
   ]
  },
  {
   "cell_type": "code",
   "execution_count": 3,
   "metadata": {},
   "outputs": [],
   "source": [
    "def reverse_transpose(target_rootnote, note_to_transpose):\n",
    "    # midi number of the note to transpose and target rootnote\n",
    "    q = pitch.Pitch(note_to_transpose).midi\n",
    "    p = pitch.Pitch(target_rootnote).midi\n",
    "    # calculate midi number of equivalent note directly. earlier in transpose we did subtraction to calculate interval difference\n",
    "    x = q + p - 12 \n",
    "    # create a new Note object with the transposed pitch\n",
    "    transposed_note = note.Note()\n",
    "    transposed_note.pitch.midi = x\n",
    "    # get the name of the transposed note\n",
    "    transposed_note_name = transposed_note.name\n",
    "    # return the transposed note name\n",
    "    return transposed_note_name\n"
   ]
  },
  {
   "cell_type": "code",
   "execution_count": 4,
   "metadata": {},
   "outputs": [
    {
     "name": "stdout",
     "output_type": "stream",
     "text": [
      "F\n"
     ]
    }
   ],
   "source": [
    "notes_in_required_key=reverse_transpose(16,13)\n",
    "print(notes_in_required_key)"
   ]
  }
 ],
 "metadata": {
  "kernelspec": {
   "display_name": "Python 3",
   "language": "python",
   "name": "python3"
  },
  "language_info": {
   "codemirror_mode": {
    "name": "ipython",
    "version": 3
   },
   "file_extension": ".py",
   "mimetype": "text/x-python",
   "name": "python",
   "nbconvert_exporter": "python",
   "pygments_lexer": "ipython3",
   "version": "3.10.4"
  },
  "orig_nbformat": 4,
  "vscode": {
   "interpreter": {
    "hash": "928db57fa97364b9b019f963370c1fdf7d3044b94bbfb1c70c9a3a5d485d1578"
   }
  }
 },
 "nbformat": 4,
 "nbformat_minor": 2
}
