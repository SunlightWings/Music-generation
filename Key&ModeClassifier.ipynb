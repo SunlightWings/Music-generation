{
 "cells": [
  {
   "cell_type": "code",
   "execution_count": 2,
   "metadata": {},
   "outputs": [],
   "source": [
    "# enumeration of all the notes in a given mode, from 0 to 11 for 12 pitches in an octave\n",
    "\n",
    "Chromatic = [0,1,2,3,4,5,6,7,8,9,10,11]\n",
    "Ionian = [0,2,4,5,7,9,11]\n",
    "Dorian = [0,2,3,5,7,9,10]\n",
    "Phrygian = [0,1,3,5,7,8,10]\n",
    "Lydian = [0,2,4,6,7,9,11]\n",
    "Mixolydian = [0,2,4,5,7,9,10]\n",
    "Aeolian = [0,2,3,5,7,8,10]\n",
    "Locrian = [0,1,3,5,6,8,10]\n",
    "\n",
    "#variations\n",
    "Harmonic_minor = [0,2,3,5,7,8,11]\n",
    "Melodic_minor = [0,2,3,5,7,9,11]\n",
    "\n",
    "#Eastern classical modes\n",
    "Bhairav = [0,1,4,5,7,8,11]\n",
    "Poorvi = [0,1,4,6,7,8,11]\n",
    "Marva = [0,1,4,6,7,9,11]\n",
    "Todi = [0,2,3,6,7,8,11]\n",
    "\n"
   ]
  },
  {
   "cell_type": "code",
   "execution_count": 3,
   "metadata": {},
   "outputs": [],
   "source": [
    "modeList = [Ionian, Dorian, Phrygian, Lydian, Mixolydian, Aeolian, Locrian, Harmonic_minor, Melodic_minor, Bhairav,Poorvi, Marva, Todi]"
   ]
  },
  {
   "cell_type": "code",
   "execution_count": 27,
   "metadata": {},
   "outputs": [],
   "source": [
    "# modetuples has modenames and modes\n",
    "# modename will be used later to name the given mode\n",
    "# mode will be used later to compute hamming distance\n",
    "\n",
    "modeTuples = [ (\"Ionian\" , Ionian),\n",
    "(\"Dorian\" , Dorian),\n",
    "(\"Phrygian\", Phrygian),\n",
    "(\"Lydian\" , Lydian), \n",
    "(\"Mixolydian\" , Mixolydian),\n",
    "(\"Aeolian\" , Aeolian),\n",
    "(\"Locrian\" , Locrian),\n",
    "(\"Harmonic_minor\", Harmonic_minor),\n",
    "(\"Melodic_minor_ascend\", Melodic_minor),\n",
    "(\"Bhairav\",Bhairav),\n",
    "(\"Poorvi\", Poorvi),\n",
    "(\"Marva\", Marva),\n",
    "(\"Todi\", Todi),\n",
    "]"
   ]
  },
  {
   "cell_type": "code",
   "execution_count": 28,
   "metadata": {},
   "outputs": [],
   "source": [
    "# notes referenced to C, initialized to zero\n",
    "# notes will be used later to transpose other keys to the reference key\n",
    "# the numbers will be used when rootnote is returned (at rootnote class later)\n",
    "midinumbers = {\n",
    "    'c' : 0,\n",
    "    'C' : 0,\n",
    "    'c#' : 1,\n",
    "    'C#' : 1,\n",
    "    'd-' : 1,\n",
    "    'D-' : 1,\n",
    "    'd' : 2,\n",
    "    'D' :2,\n",
    "    'd#' : 3,\n",
    "    'D#' : 3,\n",
    "    'e-' : 3,\n",
    "    'E-' : 3,\n",
    "    'e' : 4,\n",
    "    'E' : 4,\n",
    "    'f' : 5,\n",
    "    'F' : 5,\n",
    "    'f#' : 6,\n",
    "    'F#' : 6,\n",
    "    'g-' :6,\n",
    "    'G-': 6,\n",
    "    'g' : 7,\n",
    "    'G' : 7,\n",
    "    'g#' : 8,\n",
    "    'G#' :8,\n",
    "    'a-' : 8,\n",
    "    'A-' :8,\n",
    "    'a' : 9,\n",
    "    'A' : 9,\n",
    "    'a#' : 10,\n",
    "    'A#' : 10,\n",
    "    'b-' : 10,\n",
    "    'B-' : 10,\n",
    "    'b' : 11,\n",
    "    'B' : 11,\n",
    "\n",
    "}"
   ]
  },
  {
   "cell_type": "code",
   "execution_count": 6,
   "metadata": {},
   "outputs": [],
   "source": [
    "from music21 import *\n",
    "import scipy\n",
    "from collections import Counter"
   ]
  },
  {
   "cell_type": "code",
   "execution_count": 29,
   "metadata": {},
   "outputs": [],
   "source": [
    "# has arguments filepath and the condition for removing drums:true or false\n",
    "def open_midi(midi_path, remove_drums):\n",
    "    mf = midi.MidiFile()\n",
    "    mf.open(midi_path)\n",
    "    mf.read()\n",
    "    mf.close()\n",
    "    # list tracks\n",
    "    print ((mf.tracks))\n",
    "    print(mf)\n",
    "    if (remove_drums):\n",
    "        for i in range(len(mf.tracks)):\n",
    "           #remove drum tracks\n",
    "            mf.tracks[i].events = [ev for ev in mf.tracks[i].events if ev.channel != 10]          \n",
    "    \n",
    "    # converted to stream\n",
    "    return midi.translate.midiFileToStream(mf)"
   ]
  },
  {
   "cell_type": "code",
   "execution_count": 36,
   "metadata": {},
   "outputs": [],
   "source": [
    "# returns name of rootnote and enumerated value\n",
    "# enum will be returned as midinumbers written in the above cell\n",
    "class Rootnote:\n",
    "    def __init__(self, noteName):\n",
    "        self.noteName = noteName\n",
    "\n",
    "   \n",
    "\n",
    "    def __str__(self):\n",
    "        return f\"{self.noteName}\"\n",
    "    \n",
    "    def asnum(self):\n",
    "        return midinumbers[self.noteName]"
   ]
  },
  {
   "cell_type": "code",
   "execution_count": 31,
   "metadata": {},
   "outputs": [],
   "source": [
    "# takes base_midi (which has midi filename) as argument\n",
    "def extract_notes(midi_part):\n",
    "    parent_element = []\n",
    "    ret = []\n",
    "    for nt in midi_part.flat.notes:        \n",
    "        if isinstance(nt, note.Note):\n",
    "            ret.append(max(0.0, nt.pitch.ps))\n",
    "            parent_element.append(nt)\n",
    "        elif isinstance(nt, chord.Chord):\n",
    "            for pitch in nt.pitches:\n",
    "                ret.append(max(0.0, pitch.ps))\n",
    "                parent_element.append(nt)\n",
    "    \n",
    "    # returns appended pitch as ret\n",
    "    # returns pitches of chords as parent_element\n",
    "    return ret, parent_element"
   ]
  },
  {
   "cell_type": "code",
   "execution_count": 32,
   "metadata": {},
   "outputs": [],
   "source": [
    "# takes filepath as an argument\n",
    "def getMode(midi_filename):\n",
    "    base_midi = open_midi(midi_filename, True)\n",
    "\n",
    "    # gives key and scale as output. key is required, scale not required\n",
    "    music_analysis = base_midi.analyze('key')\n",
    "\n",
    "    # key stored as rootnote while scale is discarded\n",
    "    rootnote = Rootnote(format(music_analysis).split(' ')[0])\n",
    "    print(\"the root note is \", rootnote)\n",
    "    # calls extract_notes function has appended pitch returned as ret in a; b has pitches of chords but its not used\n",
    "    a, b = extract_notes(base_midi)\n",
    "    \n",
    "    # each elements in 'a' (has pitches) is transposed/ treated as base note, starting from 0.\n",
    "    transposed = [x - rootnote.asnum() for x in a]\n",
    "    # each octave is transposed to -1 octave having midi numbers from 0 to 11.\n",
    "    refOctave = [x % 12 for x in transposed]\n",
    "\n",
    "    # frequency and their count is kept, organized/sorted as below:\n",
    "    freq = Counter(refOctave)\n",
    "    freq = dict (freq) \n",
    "    sorted_notes= sorted(freq.items(), key=lambda x:x[1], reverse=True)\n",
    "    \n",
    "    # mostusednotes list has notes (counts in descending order), only notes with 7 highest counts taken as below: \n",
    "    mostusednotes = []\n",
    "    for i,j in sorted_notes:\n",
    "        mostusednotes.append(i)\n",
    "\n",
    "    mostusednotes = mostusednotes[:7]\n",
    "    # mostusednotes in ascending order (notes themselves in that order)\n",
    "    mostusednotes.sort()\n",
    "    print(\"most used notes : \", mostusednotes)\n",
    "    lowest = 999\n",
    "    # hamming distance calculation between mostusednotes and 'mode' from modetuple written above\n",
    "    # if distance is lowest, that mode is selected and returned\n",
    "    for modeName, mode in modeTuples:\n",
    "        distance = scipy.spatial.distance.hamming(mostusednotes, mode)\n",
    "        if distance < lowest:\n",
    "            lowest = distance \n",
    "            ourmode = modeName\n",
    "\n",
    "    return rootnote, ourmode"
   ]
  },
  {
   "cell_type": "code",
   "execution_count": 33,
   "metadata": {},
   "outputs": [
    {
     "name": "stdout",
     "output_type": "stream",
     "text": [
      "[<music21.midi.MidiTrack 0 -- 42 events>, <music21.midi.MidiTrack 1 -- 1956 events>, <music21.midi.MidiTrack 2 -- 4320 events>, <music21.midi.MidiTrack 3 -- 940 events>, <music21.midi.MidiTrack 4 -- 508 events>, <music21.midi.MidiTrack 5 -- 1054 events>, <music21.midi.MidiTrack 6 -- 92 events>, <music21.midi.MidiTrack 7 -- 1660 events>, <music21.midi.MidiTrack 8 -- 3644 events>, <music21.midi.MidiTrack 9 -- 1456 events>, <music21.midi.MidiTrack 10 -- 6 events>, <music21.midi.MidiTrack 11 -- 6 events>, <music21.midi.MidiTrack 12 -- 6 events>, <music21.midi.MidiTrack 13 -- 6 events>, <music21.midi.MidiTrack 14 -- 6 events>]\n",
      "<music21.midi.MidiFile 15 tracks>\n",
      "the root note is  e\n",
      "most used notes :  [0.0, 2.0, 3.0, 5.0, 7.0, 8.0, 10.0]\n"
     ]
    }
   ],
   "source": [
    "# filepath is passed to above getMode function.\n",
    "ourmode = getMode(\"NothingElseMatters.mid\")"
   ]
  },
  {
   "cell_type": "code",
   "execution_count": 39,
   "metadata": {},
   "outputs": [
    {
     "name": "stdout",
     "output_type": "stream",
     "text": [
      "Aeolian\n"
     ]
    }
   ],
   "source": [
    "# the required mode obtained. The index [1] means only string (modename) is printed \n",
    "print(ourmode[1])"
   ]
  }
 ],
 "metadata": {
  "kernelspec": {
   "display_name": "Python 3",
   "language": "python",
   "name": "python3"
  },
  "language_info": {
   "codemirror_mode": {
    "name": "ipython",
    "version": 3
   },
   "file_extension": ".py",
   "mimetype": "text/x-python",
   "name": "python",
   "nbconvert_exporter": "python",
   "pygments_lexer": "ipython3",
   "version": "3.10.4"
  },
  "orig_nbformat": 4,
  "vscode": {
   "interpreter": {
    "hash": "928db57fa97364b9b019f963370c1fdf7d3044b94bbfb1c70c9a3a5d485d1578"
   }
  }
 },
 "nbformat": 4,
 "nbformat_minor": 2
}
