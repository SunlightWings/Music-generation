{
 "cells": [
  {
   "cell_type": "code",
   "execution_count": 7,
   "metadata": {},
   "outputs": [],
   "source": [
    "Chromatic = [1,2,3,4,5,6,7,8,9,10,11,12]\n",
    "Ionian = [1,3,5,6,8,10,12]\n",
    "Dorian = [1,3,4,6,8,10,11]\n",
    "Phrygian = [1,2,4,6,8,9,11]\n",
    "Lydian = [1,3,5,7,8,10,12]\n",
    "Mixolydian = [1,3,5,6,8,10,11]\n",
    "Aeolian = [1,3,4,6,8,9,11]\n",
    "Locrian = [1,2,4,6,7,9,11]\n",
    "\n"
   ]
  },
  {
   "cell_type": "code",
   "execution_count": 8,
   "metadata": {},
   "outputs": [],
   "source": [
    "keyList = ['C', 'C#', 'D', 'D#', 'E', 'F', 'F#', 'G', 'G#', 'A', 'A#', 'B']\n",
    "new_keyList = []\n",
    "# looping thru all letters\n",
    "for key in keyList:\n",
    "    # add capital letter to list\n",
    "    new_keyList.append(key)\n",
    "    # add corresponding small letter\n",
    "    new_keyList.append(key.lower())\n",
    "\n",
    "\n",
    "\n",
    "\n",
    "\n",
    "# update the keylist with both small and capital \n",
    "keyList = new_keyList\n",
    "#list of lists of modes\n",
    "modeList = [Ionian, Dorian, Phrygian, Lydian, Mixolydian, Aeolian, Locrian]\n",
    "modeNameList = ['Ionian', 'Dorian', 'Phrygian', 'Lydian', 'Mixolydian', 'Aeolian', 'Locrian']\n"
   ]
  },
  {
   "cell_type": "code",
   "execution_count": 9,
   "metadata": {},
   "outputs": [],
   "source": [
    "while True:\n",
    "    key = input('enter the key')\n",
    "    if key in keyList:\n",
    "        break\n",
    "    else:\n",
    "        print ('invalid key in music, plz try again') \n",
    "\n",
    "\n",
    "\n",
    "\n",
    "\n",
    "while True:\n",
    "    mode = input('enter the mode')\n",
    "    lowercase_text = mode.lower()\n",
    "    # make first letter capital\n",
    "    mode = lowercase_text.capitalize()\n",
    "    if mode in modeNameList:\n",
    "        \n",
    "        break\n",
    "    else:\n",
    "        print('you entered non sense mode, plz enter the fundamental mode only with correct spelling if you have not')\n",
    "    \n",
    "\n",
    "\n",
    "\n",
    "\n",
    "\n",
    "\n",
    "# input time Signature\n",
    "options =['1','2']\n",
    "while True:\n",
    "    timeSig = input('enter the time signature: \\n 1. 4/4 \\n 2. 3/4')\n",
    "    if timeSig in options:\n",
    "        break\n",
    "    else:\n",
    "        print ('invalid input, plz choose the options only') \n",
    "\n",
    "tempo = input('enter the tempo in beats per minute')\n",
    "duration = input('enter the time duration in seconds')\n"
   ]
  },
  {
   "cell_type": "code",
   "execution_count": 10,
   "metadata": {},
   "outputs": [
    {
     "name": "stdout",
     "output_type": "stream",
     "text": [
      "c Dorian 1 100 10\n"
     ]
    }
   ],
   "source": [
    "print(key,mode,timeSig,tempo,duration)"
   ]
  },
  {
   "cell_type": "code",
   "execution_count": 12,
   "metadata": {},
   "outputs": [],
   "source": [
    "import librosa as lib\n",
    "import librosa.display\n"
   ]
  },
  {
   "cell_type": "code",
   "execution_count": 14,
   "metadata": {},
   "outputs": [],
   "source": [
    "duration = int(duration)\n",
    "tempo = int(tempo)\n",
    "beats = (duration/60) * tempo"
   ]
  },
  {
   "cell_type": "code",
   "execution_count": 1,
   "metadata": {},
   "outputs": [],
   "source": [
    "from midiutil.MidiFile import MIDIFile\n",
    "\n",
    "# create your MIDI object\n",
    "mf = MIDIFile(1)     # only 1 track\n",
    "track = 0   # the only track\n",
    "\n",
    "time = 0    # start at the beginning\n",
    "mf.addTrackName(track, time, \"Sample Track\")\n",
    "mf.addTempo(track, time, 120)\n",
    "\n",
    "# add some notes\n",
    "channel = 0\n",
    "volume = 100\n",
    "\n",
    "pitch = 60           # C4 (middle C)\n",
    "time = 0             # start on beat 0\n",
    "duration = 1         # 1 beat long\n",
    "mf.addNote(track, channel, pitch, time, duration, volume)\n",
    "\n",
    "pitch = 64           # E4\n",
    "time = 2             # start on beat 2\n",
    "duration = 1         # 1 beat long\n",
    "mf.addNote(track, channel, pitch, time, duration, volume)\n",
    "\n",
    "pitch = 67           # G4\n",
    "time = 4             # start on beat 4\n",
    "duration = 1         # 1 beat long\n",
    "mf.addNote(track, channel, pitch, time, duration, volume)\n",
    "\n",
    "# write it to disk\n",
    "with open(\"output.mid\", 'wb') as outf:\n",
    "    mf.writeFile(outf)"
   ]
  },
  {
   "cell_type": "code",
   "execution_count": null,
   "metadata": {},
   "outputs": [],
   "source": []
  }
 ],
 "metadata": {
  "kernelspec": {
   "display_name": "Python 3",
   "language": "python",
   "name": "python3"
  },
  "language_info": {
   "codemirror_mode": {
    "name": "ipython",
    "version": 3
   },
   "file_extension": ".py",
   "mimetype": "text/x-python",
   "name": "python",
   "nbconvert_exporter": "python",
   "pygments_lexer": "ipython3",
   "version": "3.10.4 (tags/v3.10.4:9d38120, Mar 23 2022, 23:13:41) [MSC v.1929 64 bit (AMD64)]"
  },
  "orig_nbformat": 4,
  "vscode": {
   "interpreter": {
    "hash": "928db57fa97364b9b019f963370c1fdf7d3044b94bbfb1c70c9a3a5d485d1578"
   }
  }
 },
 "nbformat": 4,
 "nbformat_minor": 2
}
