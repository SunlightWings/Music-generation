{
 "cells": [
  {
   "cell_type": "code",
   "execution_count": 24,
   "metadata": {},
   "outputs": [],
   "source": [
    "import music21"
   ]
  },
  {
   "cell_type": "code",
   "execution_count": 40,
   "metadata": {},
   "outputs": [],
   "source": [
    "# #to check no of tracks in midi loaded from the merged file\n",
    "# merged_midi = midi.MidiFile()\n",
    "# merged_midi.open('After-Mid-Term.mid')\n",
    "# merged_midi.read()\n",
    "# merged_midi.close()\n",
    "\n",
    "# print(len(merged_midi.tracks))"
   ]
  },
  {
   "cell_type": "code",
   "execution_count": 41,
   "metadata": {},
   "outputs": [
    {
     "ename": "KeyboardInterrupt",
     "evalue": "",
     "output_type": "error",
     "traceback": [
      "\u001b[1;31m---------------------------------------------------------------------------\u001b[0m",
      "\u001b[1;31mKeyboardInterrupt\u001b[0m                         Traceback (most recent call last)",
      "Cell \u001b[1;32mIn[41], line 23\u001b[0m\n\u001b[0;32m     21\u001b[0m \u001b[39m# Create a player and play the merged stream in real-time\u001b[39;00m\n\u001b[0;32m     22\u001b[0m player \u001b[39m=\u001b[39m music21\u001b[39m.\u001b[39mmidi\u001b[39m.\u001b[39mrealtime\u001b[39m.\u001b[39mStreamPlayer(merged_stream)\n\u001b[1;32m---> 23\u001b[0m player\u001b[39m.\u001b[39;49mplay()\n",
      "File \u001b[1;32mc:\\Users\\prabin\\AppData\\Local\\Programs\\Python\\Python310\\lib\\site-packages\\music21\\midi\\realtime.py:118\u001b[0m, in \u001b[0;36mStreamPlayer.play\u001b[1;34m(self, busyFunction, busyArgs, endFunction, endArgs, busyWaitMilliseconds, playForMilliseconds, blocked)\u001b[0m\n\u001b[0;32m    105\u001b[0m \u001b[39m\u001b[39m\u001b[39m'''\u001b[39;00m\n\u001b[0;32m    106\u001b[0m \u001b[39mbusyFunction is a function that is called with busyArgs when the music is busy every\u001b[39;00m\n\u001b[0;32m    107\u001b[0m \u001b[39mbusyWaitMilliseconds.\u001b[39;00m\n\u001b[1;32m   (...)\u001b[0m\n\u001b[0;32m    115\u001b[0m \u001b[39myou to completely control whether to stop it. Ignore every other arguments\u001b[39;00m\n\u001b[0;32m    116\u001b[0m \u001b[39m'''\u001b[39;00m\n\u001b[0;32m    117\u001b[0m streamStringIOFile \u001b[39m=\u001b[39m \u001b[39mself\u001b[39m\u001b[39m.\u001b[39mgetStringOrBytesIOFile()\n\u001b[1;32m--> 118\u001b[0m \u001b[39mself\u001b[39;49m\u001b[39m.\u001b[39;49mplayStringIOFile(streamStringIOFile,\n\u001b[0;32m    119\u001b[0m                       busyFunction\u001b[39m=\u001b[39;49mbusyFunction,\n\u001b[0;32m    120\u001b[0m                       busyArgs\u001b[39m=\u001b[39;49mbusyArgs,\n\u001b[0;32m    121\u001b[0m                       endFunction\u001b[39m=\u001b[39;49mendFunction,\n\u001b[0;32m    122\u001b[0m                       endArgs\u001b[39m=\u001b[39;49mendArgs,\n\u001b[0;32m    123\u001b[0m                       busyWaitMilliseconds\u001b[39m=\u001b[39;49mbusyWaitMilliseconds,\n\u001b[0;32m    124\u001b[0m                       playForMilliseconds\u001b[39m=\u001b[39;49mplayForMilliseconds,\n\u001b[0;32m    125\u001b[0m                       blocked\u001b[39m=\u001b[39;49mblocked)\n",
      "File \u001b[1;32mc:\\Users\\prabin\\AppData\\Local\\Programs\\Python\\Python310\\lib\\site-packages\\music21\\midi\\realtime.py:165\u001b[0m, in \u001b[0;36mStreamPlayer.playStringIOFile\u001b[1;34m(self, stringIOFile, busyFunction, busyArgs, endFunction, endArgs, busyWaitMilliseconds, playForMilliseconds, blocked)\u001b[0m\n\u001b[0;32m    163\u001b[0m         \u001b[39mself\u001b[39m\u001b[39m.\u001b[39mpygame\u001b[39m.\u001b[39mmixer\u001b[39m.\u001b[39mmusic\u001b[39m.\u001b[39mstop()\n\u001b[0;32m    164\u001b[0m         \u001b[39mbreak\u001b[39;00m\n\u001b[1;32m--> 165\u001b[0m     pygameClock\u001b[39m.\u001b[39;49mtick(framerate)\n\u001b[0;32m    167\u001b[0m \u001b[39mif\u001b[39;00m endFunction \u001b[39mis\u001b[39;00m \u001b[39mnot\u001b[39;00m \u001b[39mNone\u001b[39;00m:\n\u001b[0;32m    168\u001b[0m     endFunction(endArgs)\n",
      "\u001b[1;31mKeyboardInterrupt\u001b[0m: "
     ]
    }
   ],
   "source": [
    "import music21\n",
    "\n",
    "# Load MIDI file and split into parts\n",
    "midi_file = music21.converter.parse('BleedingMe.mid')\n",
    "original_parts = midi_file.parts\n",
    "\n",
    "# Extract relevant parts, a is the total tracks extracted\n",
    "extracted_parts = original_parts[0:4]\n",
    "\n",
    "# Merge extracted parts into a single score\n",
    "merged_score = music21.stream.Score()\n",
    "for part in extracted_parts:\n",
    "    merged_score.insert(part)\n",
    "\n",
    "# Write merged score to MIDI file\n",
    "merged_midi = merged_score.write('midi', fp='C:/Users/prabin/OneDrive/Desktop/Minor final/After-Mid-Term.mid')\n",
    "\n",
    "# Load merged MIDI file as stream\n",
    "merged_stream = music21.converter.parse('C:/Users/prabin/OneDrive/Desktop/Minor final/After-Mid-Term.mid')\n",
    "\n",
    "# Create a player and play the merged stream in real-time\n",
    "player = music21.midi.realtime.StreamPlayer(merged_stream)\n",
    "player.play()\n"
   ]
  },
  {
   "cell_type": "code",
   "execution_count": 42,
   "metadata": {},
   "outputs": [
    {
     "name": "stdout",
     "output_type": "stream",
     "text": [
      "10\n"
     ]
    }
   ],
   "source": [
    "a=len(midi_file.parts)\n",
    "print(a)\n"
   ]
  },
  {
   "cell_type": "code",
   "execution_count": 43,
   "metadata": {},
   "outputs": [
    {
     "name": "stdout",
     "output_type": "stream",
     "text": [
      "1508763065632\n",
      "1508682783984\n",
      "1508748467632\n",
      "1508725438592\n",
      "1508741259056\n",
      "1508759665728\n",
      "1508483917920\n",
      "1508488889968\n",
      "1508615181872\n",
      "1508420244224\n"
     ]
    }
   ],
   "source": [
    "#above code showed total 10 tracks are in extracted midi, while original showed 15\n",
    "#this could be because some track may actually be empty. \n",
    "#to check if 5 tracks are really missing or not, lets print their id, and only these exact id should show\n",
    "#up in the midi editor. (i havent verified this tho)\n",
    "for part in midi_file.parts:\n",
    "    print(part.id)\n"
   ]
  },
  {
   "cell_type": "code",
   "execution_count": 44,
   "metadata": {},
   "outputs": [],
   "source": [
    "# to stop the above midi from playing over and over again\n",
    "player.stop()\n"
   ]
  }
 ],
 "metadata": {
  "kernelspec": {
   "display_name": "Python 3",
   "language": "python",
   "name": "python3"
  },
  "language_info": {
   "codemirror_mode": {
    "name": "ipython",
    "version": 3
   },
   "file_extension": ".py",
   "mimetype": "text/x-python",
   "name": "python",
   "nbconvert_exporter": "python",
   "pygments_lexer": "ipython3",
   "version": "3.10.4"
  },
  "orig_nbformat": 4,
  "vscode": {
   "interpreter": {
    "hash": "928db57fa97364b9b019f963370c1fdf7d3044b94bbfb1c70c9a3a5d485d1578"
   }
  }
 },
 "nbformat": 4,
 "nbformat_minor": 2
}
